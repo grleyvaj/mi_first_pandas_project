{
 "cells": [
  {
   "cell_type": "code",
   "execution_count": 1,
   "metadata": {},
   "outputs": [],
   "source": [
    "import pandas as pd"
   ]
  },
  {
   "cell_type": "code",
   "execution_count": 6,
   "metadata": {},
   "outputs": [],
   "source": [
    "data = {\n",
    "    \"NOMBRE\":[\"Maria\", \"Jose\", \"David\", \"Ivan\"],\n",
    "    \"CARRERA\":[\"Auditoria\", \"Informatica\", \"Derecho\", \"Idiomas\"],\n",
    "    \"CORREO\":[\"maria@gmail.com\",\"jose@gmail.com\",\"david@gmail.com\",\"ivan@gmail.com\"]\n",
    "}"
   ]
  },
  {
   "cell_type": "code",
   "execution_count": 10,
   "metadata": {},
   "outputs": [],
   "source": [
    "estudiantes = pd.DataFrame(data)"
   ]
  },
  {
   "cell_type": "code",
   "execution_count": 12,
   "metadata": {},
   "outputs": [
    {
     "name": "stdout",
     "output_type": "stream",
     "text": [
      "  NOMBRE      CARRERA           CORREO\n",
      "0  Maria    Auditoria  maria@gmail.com\n",
      "1   Jose  Informatica   jose@gmail.com\n",
      "2  David      Derecho  david@gmail.com\n",
      "3   Ivan      Idiomas   ivan@gmail.com\n"
     ]
    }
   ],
   "source": [
    "print(estudiantes)"
   ]
  },
  {
   "cell_type": "code",
   "execution_count": null,
   "metadata": {},
   "outputs": [],
   "source": []
  }
 ],
 "metadata": {
  "kernelspec": {
   "display_name": ".venv",
   "language": "python",
   "name": "python3"
  },
  "language_info": {
   "codemirror_mode": {
    "name": "ipython",
    "version": 3
   },
   "file_extension": ".py",
   "mimetype": "text/x-python",
   "name": "python",
   "nbconvert_exporter": "python",
   "pygments_lexer": "ipython3",
   "version": "3.10.12"
  },
  "orig_nbformat": 4
 },
 "nbformat": 4,
 "nbformat_minor": 2
}
